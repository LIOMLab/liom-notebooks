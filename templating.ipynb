{
 "cells": [
  {
   "cell_type": "markdown",
   "source": [
    "## Templating"
   ],
   "metadata": {
    "collapsed": false
   },
   "id": "6f89c6b181a6bdc7"
  },
  {
   "cell_type": "code",
   "execution_count": null,
   "id": "initial_id",
   "metadata": {
    "collapsed": true
   },
   "outputs": [],
   "source": [
    "import ants\n",
    "from liom_toolkit.registration import create_template\n",
    "from liom_toolkit.utils import load_allen_template, load_zarr, segment_3d_brain, load_zarr_image_from_node\n",
    "from tqdm import tqdm"
   ]
  },
  {
   "cell_type": "code",
   "outputs": [],
   "source": [
    "def build_template_for_resolution(template_name: str, brains: list, brain_names: list,\n",
    "                                  resolution_level: int = 3, template_resolution: int = 50, iterations: int = 15,\n",
    "                                  init_with_template: bool = False,\n",
    "                                  register_to_template: bool = False, flipped_brains: bool = False,\n",
    "                                  wavelength: str = \"647nm\"):\n",
    "    resolution_mm = template_resolution / 1000\n",
    "    atlas_file = f\"/data/templates/allen/average_template_{template_resolution}.nrrd\"\n",
    "    atlas_volume = load_allen_template(atlas_file, template_resolution, padding=False)\n",
    "    atlas_volume = ants.reorient_image2(atlas_volume, \"RAS\")\n",
    "    brain_volumes = []\n",
    "    masks = []\n",
    "    for brain in tqdm(brains, desc=\"Loading brains\", leave=False, total=len(brains), unit=\"brain\", position=1):\n",
    "        zarr_file = f\"/data/LSFM/{brain}/{wavelength}.zarr\"\n",
    "        nodes = load_zarr(zarr_file)\n",
    "        image_node = nodes[0]\n",
    "        mask_node = nodes[2]\n",
    "\n",
    "        brain_volume, mask = load_volume(image_node, mask_node, resolution_level, flipped=False)\n",
    "        brain_volumes.append(brain_volume)\n",
    "        masks.append(mask)\n",
    "\n",
    "        # Added flipped brains\n",
    "        if flipped_brains:\n",
    "            brain_volume, mask = load_volume(image_node, mask_node, resolution_level, flipped=True)\n",
    "            brain_volumes.append(brain_volume)\n",
    "            masks.append(mask)\n",
    "\n",
    "    if init_with_template:\n",
    "        template = create_template(brain_volumes, masks, brain_names, atlas_volume,\n",
    "                                   template_resolution=resolution_mm, iterations=iterations,\n",
    "                                   pre_registration_type=\"Rigid\")\n",
    "    else:\n",
    "        template = create_template(brain_volumes, masks, brain_names, atlas_volume,\n",
    "                                   template_resolution=resolution_mm, iterations=iterations,\n",
    "                                   init_with_template=init_with_template, pre_registration_type=\"Rigid\")\n",
    "    if register_to_template:\n",
    "        template_transform = ants.registration(fixed=atlas_volume, moving=template, type_of_transform=\"SyN\")\n",
    "        template = ants.apply_transforms(fixed=atlas_volume, moving=template,\n",
    "                                         transformlist=template_transform[\"fwdtransforms\"])\n",
    "    # Mask template to remove noise\n",
    "    template_mask = segment_3d_brain(template)\n",
    "    new_template = template * template_mask\n",
    "    # Apply properties after multiplication\n",
    "    new_template.set_direction(template.direction)\n",
    "    new_template.set_spacing(template.spacing)\n",
    "    new_template.set_origin(template.origin)\n",
    "\n",
    "    ants.image_write(new_template, f\"templates/{template_name}_{template_resolution}_{iterations}.nii\")\n",
    "\n",
    "    return template, atlas_volume\n"
   ],
   "metadata": {
    "collapsed": false
   },
   "id": "b9fa74d3104b2c5"
  },
  {
   "cell_type": "code",
   "outputs": [],
   "source": [
    "def load_volume(image_node, mask_node, resolution_level, flipped=False):\n",
    "    brain_volume = load_zarr_image_from_node(image_node, resolution_level=resolution_level)\n",
    "    mask = load_zarr_image_from_node(mask_node, resolution_level=resolution_level)\n",
    "    brain_volume = brain_volume * mask\n",
    "    if flipped:\n",
    "        direction = brain_volume.direction\n",
    "        direction[0][0] = -1\n",
    "        brain_volume.set_direction(direction)\n",
    "        mask.set_direction(direction)\n",
    "    brain_volume = ants.reorient_image2(brain_volume, \"RAS\")\n",
    "    mask = ants.reorient_image2(mask, \"RAS\")\n",
    "    # Fix for physical shape being reset after multiplication\n",
    "    brain_volume.physical_shape = mask.physical_shape\n",
    "    return brain_volume, mask"
   ],
   "metadata": {
    "collapsed": false
   },
   "id": "a44810c2e3914d20"
  },
  {
   "cell_type": "code",
   "outputs": [],
   "source": [
    "# Set the resolution levels (zarr index) and the matching atlas resolution\n",
    "resolution_levels = [2, 3]\n",
    "atlas_resolutions = [25, 50]"
   ],
   "metadata": {
    "collapsed": false
   },
   "id": "37aa3efc9c232150"
  },
  {
   "cell_type": "code",
   "outputs": [],
   "source": [
    "# Set the brains to use for the template\n",
    "brains = [\n",
    "    \"S18\",\n",
    "    \"S19\",\n",
    "    \"S21\",\n",
    "    \"S23\"\n",
    "]\n",
    "\n",
    "# Set the name of the brains (use for saving intermediate results).\n",
    "# The order of the names should match the order of the brains and if mirrored brains are used these should be added here\n",
    "brain_names = [\n",
    "    \"S18\",\n",
    "    \"S18_mirrored\"\n",
    "    \"S19\",\n",
    "    \"S19_mirrored\",\n",
    "    \"S21\",\n",
    "    \"S21_mirrored\",\n",
    "    \"S23\"\n",
    "    \"S23_mirrored\"\n",
    "]\n",
    "\n",
    "# The code below can be used when no mirrored brains are used\n",
    "# brain_names = brains"
   ],
   "metadata": {
    "collapsed": false
   },
   "id": "da23427079049daf"
  },
  {
   "cell_type": "code",
   "outputs": [],
   "source": [
    "# Set parameters for the templating\n",
    "name = \"p11_lightsheet\"\n",
    "iterations = 15\n",
    "# This decides if the first brain used in the templating process is the template or the first brain in the list\n",
    "init_with_template = False\n",
    "# This decides if the new template is registered to the allen atlas after the templating process\n",
    "register_to_template = False\n",
    "# This decides if the mirrored brains are used in the templating process\n",
    "flipped_brains = False\n",
    "# This decides which wavelength to use for the templating\n",
    "wavelength = \"647nm\""
   ],
   "metadata": {
    "collapsed": false
   },
   "id": "7265cbd0756c8bca"
  },
  {
   "cell_type": "code",
   "outputs": [],
   "source": [
    "# Build the template for the different resolutions\n",
    "for (resolution_level, atlas_resolution) in (\n",
    "        pbar := tqdm(zip(resolution_levels, atlas_resolutions), desc=\"Building templates\", leave=True,\n",
    "                     total=len(resolution_levels), unit=\"template\", position=0)):\n",
    "    pbar.set_description(f\"Building template at {atlas_resolution} microns\")\n",
    "    build_template_for_resolution(name, brains=brains, brain_names=brain_names,\n",
    "                                  resolution_level=resolution_level,\n",
    "                                  template_resolution=atlas_resolution, iterations=iterations,\n",
    "                                  init_with_template=init_with_template,\n",
    "                                  register_to_template=register_to_template,\n",
    "                                  flipped_brains=flipped_brains,\n",
    "                                  wavelength=wavelength)"
   ],
   "metadata": {
    "collapsed": false
   },
   "id": "72cb3c5611c53e9f"
  }
 ],
 "metadata": {
  "kernelspec": {
   "display_name": "Python 3",
   "language": "python",
   "name": "python3"
  },
  "language_info": {
   "codemirror_mode": {
    "name": "ipython",
    "version": 2
   },
   "file_extension": ".py",
   "mimetype": "text/x-python",
   "name": "python",
   "nbconvert_exporter": "python",
   "pygments_lexer": "ipython2",
   "version": "2.7.6"
  }
 },
 "nbformat": 4,
 "nbformat_minor": 5
}
