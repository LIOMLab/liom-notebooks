{
 "cells": [
  {
   "cell_type": "markdown",
   "source": [
    "## Templating"
   ],
   "metadata": {
    "collapsed": false
   },
   "id": "6f89c6b181a6bdc7"
  },
  {
   "cell_type": "code",
   "execution_count": null,
   "id": "initial_id",
   "metadata": {
    "collapsed": true
   },
   "outputs": [],
   "source": [
    "from liom_toolkit.registration import build_template_for_resolution\n",
    "from tqdm.auto import tqdm"
   ]
  },
  {
   "cell_type": "code",
   "outputs": [],
   "source": [
    "# Set the brains to use for the template\n",
    "brain_files = [\n",
    "    \"/data/LSFM/S18/647nm.zarr\",\n",
    "    \"/data/LSFM/S19/647nm.zarr\",\n",
    "    \"/data/LSFM/S21/647nm.zarr\",\n",
    "    \"/data/LSFM/S23/647nm.zarr\"\n",
    "]\n",
    "\n",
    "# Set the name of the brains (use for saving intermediate results).\n",
    "# The order of the names should match the order of the brains, mirrored version will be added automatically if needed.\n",
    "brain_names = [\n",
    "    \"S18\",\n",
    "    \"S19\",\n",
    "    \"S21\",\n",
    "    \"S23\"\n",
    "]"
   ],
   "metadata": {
    "collapsed": false
   },
   "id": "da23427079049daf"
  },
  {
   "cell_type": "code",
   "outputs": [],
   "source": [
    "# Set the resolution levels (zarr index) and the matching atlas resolution\n",
    "resolution_levels = [2, 3]\n",
    "atlas_resolutions = [25, 50]\n",
    "iterations = 15\n",
    "# This decides if the first brain used in the templating process is the template or the first brain in the list\n",
    "init_with_template = False\n",
    "# This decides if the new template is registered to the allen atlas after the templating process\n",
    "register_to_template = False\n",
    "# This decides if the mirrored brains are used in the templating process\n",
    "flipped_brains = False"
   ],
   "metadata": {
    "collapsed": false
   },
   "id": "7265cbd0756c8bca"
  },
  {
   "cell_type": "code",
   "outputs": [],
   "source": [
    "# Build the template for the different resolutions\n",
    "for (resolution_level, atlas_resolution) in (\n",
    "        pbar := tqdm(zip(resolution_levels, atlas_resolutions), desc=\"Building templates\", leave=True,\n",
    "                     total=len(resolution_levels), unit=\"template\", position=0)):\n",
    "    pbar.set_description(f\"Building template at {atlas_resolution} microns\")\n",
    "    output_file = f\"/data/LSFM/template/p11/p11_lightsheet_{atlas_resolution}microns.nii\"\n",
    "    build_template_for_resolution(output_file=output_file, zarr_files=brain_files,\n",
    "                                  brain_names=brain_names,\n",
    "                                  resolution_level=resolution_level,\n",
    "                                  template_resolution=atlas_resolution, iterations=iterations,\n",
    "                                  init_with_template=init_with_template,\n",
    "                                  register_to_template=register_to_template,\n",
    "                                  flipped_brains=flipped_brains)"
   ],
   "metadata": {
    "collapsed": false
   },
   "id": "72cb3c5611c53e9f"
  }
 ],
 "metadata": {
  "kernelspec": {
   "display_name": "Python 3",
   "language": "python",
   "name": "python3"
  },
  "language_info": {
   "codemirror_mode": {
    "name": "ipython",
    "version": 2
   },
   "file_extension": ".py",
   "mimetype": "text/x-python",
   "name": "python",
   "nbconvert_exporter": "python",
   "pygments_lexer": "ipython2",
   "version": "2.7.6"
  }
 },
 "nbformat": 4,
 "nbformat_minor": 5
}
