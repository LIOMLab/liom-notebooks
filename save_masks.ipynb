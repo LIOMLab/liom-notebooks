{
 "cells": [
  {
   "cell_type": "markdown",
   "source": [
    "## Save masks\n",
    "Load the numpy mask files and save them to zarr"
   ],
   "metadata": {
    "collapsed": false
   },
   "id": "b7c17c9eb784ba66"
  },
  {
   "cell_type": "code",
   "outputs": [],
   "source": [
    "import numpy as np\n",
    "from liom_toolkit.utils import save_label_to_zarr, generate_label_color_dict_mask\n",
    "from tqdm.auto import tqdm"
   ],
   "metadata": {
    "collapsed": false
   },
   "id": "33606d624f35002d"
  },
  {
   "cell_type": "code",
   "outputs": [],
   "source": [
    "mask_files = []\n",
    "zarr_files = []\n",
    "# Colour dict for setting the label colour in napari\n",
    "colour_dict = generate_label_color_dict_mask()\n",
    "scales = (6.5, 6.5, 6.5)\n",
    "# The scale at which the mask is generated\n",
    "resolution_level = 2"
   ],
   "metadata": {
    "collapsed": false
   },
   "id": "5219c6ed80a97aeb"
  },
  {
   "cell_type": "code",
   "outputs": [],
   "source": [
    "for mask_file, zarr_file in tqdm(zip(mask_files, zarr_files)):\n",
    "    mask = np.load(mask_file)\n",
    "    # Switch x and z axis for zarr\n",
    "    mask = np.transpose(mask, (2, 1, 0))\n",
    "    save_label_to_zarr(mask, zarr_file, colour_dict, name=\"mask\", scales=scales, resolution_level=resolution_level)"
   ],
   "metadata": {
    "collapsed": false
   },
   "id": "75adb2cbec0d389b"
  }
 ],
 "metadata": {
  "kernelspec": {
   "display_name": "Python 3",
   "language": "python",
   "name": "python3"
  },
  "language_info": {
   "codemirror_mode": {
    "name": "ipython",
    "version": 2
   },
   "file_extension": ".py",
   "mimetype": "text/x-python",
   "name": "python",
   "nbconvert_exporter": "python",
   "pygments_lexer": "ipython2",
   "version": "2.7.6"
  }
 },
 "nbformat": 4,
 "nbformat_minor": 5
}
