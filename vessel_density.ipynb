{
 "cells": [
  {
   "metadata": {},
   "cell_type": "markdown",
   "source": "## Demo of vessel density calculation",
   "id": "b8aecd023ade0a44"
  },
  {
   "metadata": {},
   "cell_type": "code",
   "outputs": [],
   "execution_count": null,
   "source": [
    "# Import necessary libraries\n",
    "from liom_toolkit.segmentation import generate_itk_id_list_of_region, create_filter_image, filter_image_to_region, compute_mask_area\n",
    "from liom_toolkit.utils import load_node_by_name, load_zarr, dask_client_manager"
   ],
   "id": "16c9715be4bb025f"
  },
  {
   "metadata": {},
   "cell_type": "code",
   "outputs": [],
   "execution_count": null,
   "source": [
    "# Setup dask client.\n",
    "\n",
    "# Local\n",
    "dask_client_manager.set_client()\n",
    "\n",
    "# Remote\n",
    "#dask_client_manager.set_client(\"tcp://...\")\n",
    "\n",
    "client = dask_client_manager.get_client()"
   ],
   "id": "1f1717e70502751f"
  },
  {
   "metadata": {},
   "cell_type": "code",
   "outputs": [],
   "execution_count": null,
   "source": [
    "# Load the zarr datasets\n",
    "image_path = \"\"\n",
    "nodes = load_zarr(image_path)\n",
    "# Set the resolution level, 0 is the highest resolution\n",
    "resolution_level = 0\n",
    "\n",
    "# Load the atlas, image and mask\n",
    "atlas_node = load_node_by_name(nodes, \"atlas\")\n",
    "atlas = client.scatter(atlas_node.data[resolution_level])\n",
    "\n",
    "vascular_node = load_node_by_name(nodes, \"vessels\")\n",
    "vascular = client.scatter(vascular_node.data[resolution_level])\n",
    "\n",
    "mask_node = load_node_by_name(nodes, \"mask\")\n",
    "mask = client.scatter(mask_node.data[resolution_level])"
   ],
   "id": "4e08a05a49d0583b"
  },
  {
   "metadata": {},
   "cell_type": "code",
   "outputs": [],
   "execution_count": null,
   "source": [
    "# Define the region of interest\n",
    "region = \"Thalamus\""
   ],
   "id": "1e8a9c8fda882472"
  },
  {
   "metadata": {},
   "cell_type": "code",
   "outputs": [],
   "execution_count": null,
   "source": [
    "# Get the region ids which are in the atlas\n",
    "itk_ids = generate_itk_id_list_of_region(region)"
   ],
   "id": "e00ecba548589b4a"
  },
  {
   "metadata": {},
   "cell_type": "code",
   "outputs": [],
   "execution_count": null,
   "source": [
    "# Create a filter image\n",
    "filter_image = create_filter_image(atlas, itk_ids)\n",
    "\n",
    "# Apply the filter image to the vascular image and the mask\n",
    "filtered_vascular = filter_image_to_region(vascular, filter_image)\n",
    "filtered_mask = filter_image_to_region(mask, filter_image)"
   ],
   "id": "a6337e5fb72cffdf"
  },
  {
   "metadata": {},
   "cell_type": "code",
   "outputs": [],
   "execution_count": null,
   "source": [
    "# Compute the areas of both the vessel and the mask\n",
    "vascular_area = compute_mask_area(filtered_vascular)\n",
    "mask_area = compute_mask_area(filtered_mask)"
   ],
   "id": "936aeef24155bf43"
  },
  {
   "metadata": {},
   "cell_type": "code",
   "outputs": [],
   "execution_count": null,
   "source": [
    "# Calculate the vessel density\n",
    "vessel_density = vascular_area / mask_area\n",
    "vessel_density"
   ],
   "id": "335aee1a3694c026"
  }
 ],
 "metadata": {
  "kernelspec": {
   "display_name": "Python 3",
   "language": "python",
   "name": "python3"
  },
  "language_info": {
   "codemirror_mode": {
    "name": "ipython",
    "version": 2
   },
   "file_extension": ".py",
   "mimetype": "text/x-python",
   "name": "python",
   "nbconvert_exporter": "python",
   "pygments_lexer": "ipython2",
   "version": "2.7.6"
  }
 },
 "nbformat": 4,
 "nbformat_minor": 5
}
