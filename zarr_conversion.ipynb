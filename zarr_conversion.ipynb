{
 "cells": [
  {
   "cell_type": "markdown",
   "source": [
    "## Lightsheet HDF5 to Zarr conversion"
   ],
   "metadata": {
    "collapsed": false
   },
   "id": "e2727e5d03bb883b"
  },
  {
   "cell_type": "markdown",
   "source": [
    "### Option 1: Single file to single zarr\n",
    "This option will convert a single HDF5 file from the lightsheet microscope to a single zarr file. This is useful for small datasets that can fit into a single file or if you have single channel acquisitions."
   ],
   "metadata": {
    "collapsed": false
   },
   "id": "4ad26974ff803d15"
  },
  {
   "cell_type": "code",
   "outputs": [],
   "source": [
    "from liom_toolkit.utils import convert_hdf5_to_zarr"
   ],
   "metadata": {
    "collapsed": false,
    "ExecuteTime": {
     "end_time": "2024-02-28T16:12:08.134217Z",
     "start_time": "2024-02-28T16:12:04.603348Z"
    }
   },
   "id": "dffaf67c745e1ce4",
   "execution_count": 1
  },
  {
   "cell_type": "code",
   "outputs": [],
   "source": [
    "# Define the input & output paths and scales.\n",
    "hdf5_file = \"\"\n",
    "zarr_file = \"\"\n",
    "# The scales represent the physical resolution of the data in microns. By default, this is 6.5 x 6.5 x 6.5 microns if the step size of the microscope has been set to the x and y resolution.\n",
    "scales = (6.5, 6.5, 6.5)\n",
    "# When using a system with limited memory, a memmap may be used to cache the hdf5 file to disk instead of to memory. This will slow down the conversion process but will allow for larger datasets to be converted.\n",
    "use_memmap = True"
   ],
   "metadata": {
    "collapsed": false
   },
   "id": "a8cfe94383724afa"
  },
  {
   "cell_type": "code",
   "outputs": [],
   "source": [
    "convert_hdf5_to_zarr(hdf5_file, zarr_file, use_memmap=use_memmap, scales=scales)"
   ],
   "metadata": {
    "collapsed": false
   },
   "id": "ff88b382e1a93baf",
   "execution_count": null
  },
  {
   "cell_type": "markdown",
   "source": [
    "### Option 2: Full Zarr creation\n",
    "This options use multichannel lightsheet acquisitions and will create a full zarr dataset with the following structure:\n",
    "- 4D images of the acquisitions, with the dimensions (c, z, y, x)\n",
    "- 3D mask (auto generated) of the acquisitions, with the dimensions (z, y, x)\n",
    "- Allen CCF atlas aligned to the acquisition, with the dimensions (z, y, x)\n"
   ],
   "metadata": {
    "collapsed": false
   },
   "id": "57af39b6bc9624c"
  },
  {
   "cell_type": "code",
   "outputs": [],
   "source": [
    "from liom_toolkit.utils import create_full_zarr_volume"
   ],
   "metadata": {
    "collapsed": false,
    "ExecuteTime": {
     "end_time": "2024-02-28T16:20:58.106006Z",
     "start_time": "2024-02-28T16:20:58.099040Z"
    }
   },
   "id": "c47c8e274ad91388",
   "execution_count": 2
  },
  {
   "cell_type": "code",
   "outputs": [],
   "source": [
    "auto_fluo_file = \"/data/LSFM/S23/647nm.hdf5\"\n",
    "vascular_file = \"/data/LSFM/S23/555nm.hdf5\"\n",
    "template_file = \"/data/LSFM/template/p11/p11_lightsheet_25_15.nii\"\n",
    "zarr_file = \"/data/LSFM/S23/S23.zarr\"\n",
    "use_memmap = True\n",
    "scales = (6.5, 6.5, 6.5)\n",
    "volume_orientation = \"RSP\""
   ],
   "metadata": {
    "collapsed": false
   },
   "id": "10f2aa9faed16ef4"
  },
  {
   "cell_type": "code",
   "outputs": [],
   "source": [
    "create_full_zarr_volume(auto_fluo_file, vascular_file, template_file, zarr_file, use_mem_map=use_memmap, scales=scales,\n",
    "                        original_volume_orientation=volume_orientation)"
   ],
   "metadata": {
    "collapsed": false
   },
   "id": "a28efde61bca71d8"
  }
 ],
 "metadata": {
  "kernelspec": {
   "display_name": "Python 3",
   "language": "python",
   "name": "python3"
  },
  "language_info": {
   "codemirror_mode": {
    "name": "ipython",
    "version": 2
   },
   "file_extension": ".py",
   "mimetype": "text/x-python",
   "name": "python",
   "nbconvert_exporter": "python",
   "pygments_lexer": "ipython2",
   "version": "2.7.6"
  }
 },
 "nbformat": 4,
 "nbformat_minor": 5
}
