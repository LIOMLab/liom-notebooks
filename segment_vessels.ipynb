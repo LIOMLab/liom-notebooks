{
 "cells": [
  {
   "metadata": {},
   "cell_type": "markdown",
   "source": [
    "## Vessel segmentation using a U-Net model\n",
    "This notebook demonstrates the use of the vseg vessel segmentation network included in the toolkit. The model is trained on LSFM data."
   ],
   "id": "27070e8e758562bf"
  },
  {
   "metadata": {},
   "cell_type": "code",
   "outputs": [],
   "execution_count": null,
   "source": [
    "# Import the necessary libraries\n",
    "import os\n",
    "import shutil\n",
    "\n",
    "import numpy as np\n",
    "from liom_toolkit.segmentation.vseg.model import VsegModel\n",
    "from liom_toolkit.segmentation.vseg.predict_one import predict_one\n",
    "from liom_toolkit.utils import extract_zarr_to_png, generate_label_color_dict_mask, save_label_to_zarr\n",
    "from tqdm.auto import tqdm"
   ],
   "id": "7fa772020fe5cb7a"
  },
  {
   "metadata": {},
   "cell_type": "markdown",
   "source": [
    "### Prepare the zarr volume\n",
    "The individual slices need to be extracted from the zarr volume and saved as individual png files. The following code demonstrates how to do this."
   ],
   "id": "b7ba432db02ba2d1"
  },
  {
   "metadata": {},
   "cell_type": "code",
   "outputs": [],
   "execution_count": null,
   "source": [
    "zarr_file = \"\"\n",
    "png_dir = \"\"\n",
    "extract_zarr_to_png(zarr_file, png_dir)"
   ],
   "id": "a084fc89c14f3d38"
  },
  {
   "metadata": {},
   "cell_type": "markdown",
   "source": [
    "### Run the model\n",
    "The following code downloads the pre-trained model and runs it for the entire folder"
   ],
   "id": "f046adde082b63a0"
  },
  {
   "metadata": {},
   "cell_type": "code",
   "outputs": [],
   "execution_count": null,
   "source": [
    "# Set the device, 'cuda' if the machine has an Nvidia GPU and CUDA installed, otherwise 'cpu'\n",
    "device = \"cuda\"\n",
    "# Model load, the pretrained options downloads the most recent from wandb\n",
    "model = VsegModel(pretrained=True, device=device)"
   ],
   "id": "1dce8fcdf9b8dd86"
  },
  {
   "metadata": {},
   "cell_type": "code",
   "outputs": [],
   "execution_count": null,
   "source": [
    "dir_path = png_dir\n",
    "output_path = \"\"\n",
    "normalization = True\n",
    "patching = False\n",
    "stride = None\n",
    "width = None"
   ],
   "id": "4c42f6ec3529b2a"
  },
  {
   "metadata": {},
   "cell_type": "code",
   "outputs": [],
   "execution_count": null,
   "source": [
    "# Run the model\n",
    "vessel_stack = []\n",
    "for images in tqdm(os.listdir(dir_path), desc=\"Processing images\"):\n",
    "    image_path = os.path.join(dir_path, images)\n",
    "    prediction = predict_one(model=model, img_path=image_path, save_path=output_path,\n",
    "                             norm=normalization, dev=device, patching=patching, stride=stride, width=width)\n",
    "    vessel_stack.append(prediction)\n",
    "volume = np.stack(vessel_stack)\n",
    "volume = np.transpose(volume, (2, 1, 0))\n",
    "volume = volume.astype(\"uint8\")"
   ],
   "id": "a98a23e62e593b1b"
  },
  {
   "metadata": {},
   "cell_type": "markdown",
   "source": [
    "### Reassemble the slices to save as zarr\n",
    "Next, we need to save the files back to a zarr volume. The following code demonstrates how to do this."
   ],
   "id": "b1eb7310e0ea247"
  },
  {
   "metadata": {},
   "cell_type": "code",
   "outputs": [],
   "execution_count": null,
   "source": [
    "# Make the volume binary\n",
    "volume[volume > 0] = 1\n",
    "# Transpose the volume to match the zarr format\n",
    "volume = np.transpose(volume, (2, 1, 0))\n",
    "\n",
    "# Save the volume to zarr\n",
    "colour_dict = generate_label_color_dict_mask()\n",
    "save_label_to_zarr(volume, zarr_file, colour_dict, \"vessels\", resolution_level=0)"
   ],
   "id": "2bf75b122f2c68d4"
  },
  {
   "metadata": {},
   "cell_type": "markdown",
   "source": [
    "### Cleanup\n",
    "Finally, we can clean up the png files that were created."
   ],
   "id": "592f761cfcaea898"
  },
  {
   "metadata": {},
   "cell_type": "code",
   "outputs": [],
   "execution_count": null,
   "source": "shutil.rmtree(png_dir)",
   "id": "190f0f268b903f68"
  }
 ],
 "metadata": {
  "kernelspec": {
   "display_name": "Python 3",
   "language": "python",
   "name": "python3"
  },
  "language_info": {
   "codemirror_mode": {
    "name": "ipython",
    "version": 2
   },
   "file_extension": ".py",
   "mimetype": "text/x-python",
   "name": "python",
   "nbconvert_exporter": "python",
   "pygments_lexer": "ipython2",
   "version": "2.7.6"
  }
 },
 "nbformat": 4,
 "nbformat_minor": 5
}
